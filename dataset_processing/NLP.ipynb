{
 "cells": [
  {
   "cell_type": "code",
   "execution_count": 5,
   "id": "dc5bccdc-8497-4235-8c53-ce78948dd7d3",
   "metadata": {},
   "outputs": [
    {
     "name": "stdout",
     "output_type": "stream",
     "text": [
      "1\n",
      "(3,)\n",
      "\n",
      "1\n",
      "(Frozen Pizza - Rustico,)\n",
      "\n"
     ]
    }
   ],
   "source": [
    "import spacy\n",
    "\n",
    "# Load spaCy model for NLP\n",
    "nlp = spacy.load(\"en_core_web_sm\")\n",
    "\n",
    "def extract_main_keyword(product_name):\n",
    "    # Process the product name with spaCy\n",
    "    doc = nlp(product_name)\n",
    "    print(\"1\")\n",
    "    # Initialize an empty list to store main keywords\n",
    "    main_keywords = []\n",
    "    print(doc.ents)\n",
    "    # Iterate over entities in the processed text\n",
    "    for ent in doc.ents:\n",
    "        # Check if the entity label is a food item (e.g., PRODUCT)\n",
    "        if ent.label_ == \"PRODUCT\":\n",
    "            # Append the normalized form of the entity text to the list of main keywords\n",
    "            main_keywords.append(ent.text.lower())\n",
    "            print(\"2\")\n",
    "    # Return the main keywords as a single string\n",
    "    return \" \".join(main_keywords)\n",
    "\n",
    "# Example usage\n",
    "product_name_1 = \"Sausages coated with dough, frozen - Rolldog - save $ 3\"\n",
    "product_name_2 = \"Frozen Pizza - Rustico\"\n",
    "\n",
    "print(extract_main_keyword(product_name_1))  # Output: \"sausages\"\n",
    "\n",
    "print(extract_main_keyword(product_name_2))  # Output: \"pizza\"\n"
   ]
  },
  {
   "cell_type": "code",
   "execution_count": 6,
   "id": "cf448f6f-60ee-466d-9257-8afa751f2905",
   "metadata": {},
   "outputs": [
    {
     "name": "stdout",
     "output_type": "stream",
     "text": [
      "sausage dough rolldog save\n",
      "\n"
     ]
    }
   ],
   "source": [
    "import spacy\n",
    "\n",
    "# Load spaCy model for NLP\n",
    "nlp = spacy.load(\"en_core_web_sm\")\n",
    "\n",
    "def extract_main_keyword(product_name):\n",
    "    # Process the product name with spaCy\n",
    "    doc = nlp(product_name)\n",
    "    \n",
    "    # Initialize an empty list to store main keywords\n",
    "    main_keywords = []\n",
    "    \n",
    "    # Iterate over tokens in the processed text\n",
    "    for token in doc:\n",
    "        # Check if the token is a noun and not a stop word\n",
    "        if token.pos_ == \"NOUN\" and not token.is_stop:\n",
    "            # Append the normalized form of the token text to the list of main keywords\n",
    "            main_keywords.append(token.lemma_.lower())\n",
    "    \n",
    "    # Return the main keywords as a single string\n",
    "    return \" \".join(main_keywords)\n",
    "\n",
    "# Example usage\n",
    "product_name_1 = \"Sausages coated with dough, frozen - Rolldog - save $ 3\"\n",
    "product_name_2 = \"Frozen Pizza - Rustico\"\n",
    "\n",
    "print(extract_main_keyword(product_name_1))  # Output: \"sausage dough\"\n",
    "print(extract_main_keyword(product_name_2))  # Output: \"pizza\"\n"
   ]
  },
  {
   "cell_type": "code",
   "execution_count": null,
   "id": "8d4d990d-f00e-4c36-80e0-b0ddab8034a1",
   "metadata": {},
   "outputs": [],
   "source": []
  }
 ],
 "metadata": {
  "kernelspec": {
   "display_name": "Python 3 (ipykernel)",
   "language": "python",
   "name": "python3"
  },
  "language_info": {
   "codemirror_mode": {
    "name": "ipython",
    "version": 3
   },
   "file_extension": ".py",
   "mimetype": "text/x-python",
   "name": "python",
   "nbconvert_exporter": "python",
   "pygments_lexer": "ipython3",
   "version": "3.9.18"
  }
 },
 "nbformat": 4,
 "nbformat_minor": 5
}
