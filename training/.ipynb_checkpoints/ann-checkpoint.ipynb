{
 "cells": [
  {
   "cell_type": "code",
   "execution_count": 25,
   "id": "579cb345-9c3b-4c24-ac60-4cdd91e1165a",
   "metadata": {},
   "outputs": [],
   "source": [
    "import os\n",
    "import numpy as np\n",
    "import pandas as pd\n",
    "from tqdm import tqdm\n",
    "import tensorflow as tf\n",
    "from sklearn.model_selection import train_test_split"
   ]
  },
  {
   "cell_type": "code",
   "execution_count": 26,
   "id": "961fb5cf-21a2-4b4f-9cb8-4af443bbac93",
   "metadata": {},
   "outputs": [],
   "source": [
    "def load_user_data():\n",
    "    dataset_dir = os.path.join('..','dataset_processing', 'sample_data')\n",
    "    df = pd.read_csv(dataset_dir+\"/order_list_100k_pattern.csv\")\n",
    "    orders = df.iloc[:, 1:].values\n",
    "    return orders"
   ]
  },
  {
   "cell_type": "code",
   "execution_count": 27,
   "id": "e981fa78-e5c6-455e-852a-91da3ddaed7d",
   "metadata": {},
   "outputs": [],
   "source": [
    "def generate_input_output_pairs(user_data, sequence_length):\n",
    "    input_seqs = []\n",
    "    output_seqs = []\n",
    "    for i in range(len(user_data) - sequence_length):\n",
    "        input_seq = np.array(user_data[i:i + sequence_length]).flatten()  # Flatten the input sequence\n",
    "        output_seq = np.array(user_data[i + sequence_length])\n",
    "        input_seqs.append(input_seq)\n",
    "        output_seqs.append(output_seq)\n",
    "    return np.array(input_seqs), np.array(output_seqs)"
   ]
  },
  {
   "cell_type": "code",
   "execution_count": 28,
   "id": "116f8831-20ed-4e29-9646-5a76cbace61b",
   "metadata": {},
   "outputs": [],
   "source": [
    "def build_ann_model(input_shape, num_outputs):\n",
    "    model = tf.keras.Sequential([\n",
    "        tf.keras.layers.Dense(128, activation='relu', input_shape=(input_shape,)),\n",
    "        tf.keras.layers.Dense(256, activation='relu'),\n",
    "        tf.keras.layers.Dense(512, activation='relu'),\n",
    "        tf.keras.layers.Dense(256, activation='relu'),\n",
    "        tf.keras.layers.Dense(128, activation='relu'),\n",
    "        tf.keras.layers.Dense(64, activation='relu'),\n",
    "        tf.keras.layers.Dense(32, activation='relu'),\n",
    "        tf.keras.layers.Dense(num_outputs, activation='sigmoid')\n",
    "    ])\n",
    "    return model"
   ]
  },
  {
   "cell_type": "code",
   "execution_count": 29,
   "id": "d59578ff-9d1a-49b6-9829-9671b5830246",
   "metadata": {},
   "outputs": [],
   "source": [
    "def train_model(model, X_train, y_train, epochs=10, batch_size=32, validation_split=0.2):\n",
    "    model.compile(loss='binary_crossentropy', optimizer='adam', metrics=['accuracy'])\n",
    "    model.fit(X_train, y_train, epochs=epochs, batch_size=batch_size, validation_split=validation_split)"
   ]
  },
  {
   "cell_type": "code",
   "execution_count": 30,
   "id": "174d52d1-c39e-422b-b823-7319c8391847",
   "metadata": {},
   "outputs": [],
   "source": [
    "def evaluate_model(model, X_test, y_test):\n",
    "    loss, accuracy = model.evaluate(X_test, y_test)\n",
    "    print(f\"Test Loss: {loss}, Test Accuracy: {accuracy}\")"
   ]
  },
  {
   "cell_type": "code",
   "execution_count": 31,
   "id": "734051fc-cc83-4906-9f5f-d8b54da5f14e",
   "metadata": {},
   "outputs": [],
   "source": [
    "SEQUENCE_LENGTH = 5\n",
    "PRODUCT_SIZE = 20\n",
    "user_data = load_user_data()\n",
    "input_arr, output_arr = generate_input_output_pairs(user_data, SEQUENCE_LENGTH)"
   ]
  },
  {
   "cell_type": "code",
   "execution_count": 32,
   "id": "9a996888-1ef2-4e48-b74e-75247b2b1c53",
   "metadata": {},
   "outputs": [],
   "source": [
    "X_train, X_test, y_train, y_test = train_test_split(input_arr, output_arr, test_size=0.2, random_state=42)"
   ]
  },
  {
   "cell_type": "code",
   "execution_count": 33,
   "id": "fa7631de-cce0-412f-9f2c-baaf86d5d430",
   "metadata": {},
   "outputs": [],
   "source": [
    "model = build_ann_model(SEQUENCE_LENGTH*PRODUCT_SIZE,PRODUCT_SIZE)"
   ]
  },
  {
   "cell_type": "code",
   "execution_count": 34,
   "id": "d02de963-83e9-45ee-bb57-06f64a80cf4a",
   "metadata": {},
   "outputs": [
    {
     "name": "stdout",
     "output_type": "stream",
     "text": [
      "Epoch 1/25\n",
      "2000/2000 [==============================] - 13s 6ms/step - loss: 0.3888 - accuracy: 0.1574 - val_loss: 0.3843 - val_accuracy: 0.1316\n",
      "Epoch 2/25\n",
      "2000/2000 [==============================] - 12s 6ms/step - loss: 0.3853 - accuracy: 0.1551 - val_loss: 0.3841 - val_accuracy: 0.0505\n",
      "Epoch 3/25\n",
      "2000/2000 [==============================] - 12s 6ms/step - loss: 0.3850 - accuracy: 0.1540 - val_loss: 0.3845 - val_accuracy: 0.0505\n",
      "Epoch 4/25\n",
      "2000/2000 [==============================] - 12s 6ms/step - loss: 0.3846 - accuracy: 0.1460 - val_loss: 0.3845 - val_accuracy: 0.1870\n",
      "Epoch 5/25\n",
      "2000/2000 [==============================] - 12s 6ms/step - loss: 0.3841 - accuracy: 0.1456 - val_loss: 0.3842 - val_accuracy: 0.1316\n",
      "Epoch 6/25\n",
      "2000/2000 [==============================] - 12s 6ms/step - loss: 0.3834 - accuracy: 0.1556 - val_loss: 0.3855 - val_accuracy: 0.2565\n",
      "Epoch 7/25\n",
      "2000/2000 [==============================] - 12s 6ms/step - loss: 0.3824 - accuracy: 0.1418 - val_loss: 0.3861 - val_accuracy: 0.2562\n",
      "Epoch 8/25\n",
      "2000/2000 [==============================] - 12s 6ms/step - loss: 0.3814 - accuracy: 0.1505 - val_loss: 0.3875 - val_accuracy: 0.2396\n",
      "Epoch 9/25\n",
      "2000/2000 [==============================] - 12s 6ms/step - loss: 0.3803 - accuracy: 0.1500 - val_loss: 0.3888 - val_accuracy: 0.0547\n",
      "Epoch 10/25\n",
      "2000/2000 [==============================] - 12s 6ms/step - loss: 0.3792 - accuracy: 0.1520 - val_loss: 0.3888 - val_accuracy: 0.0514\n",
      "Epoch 11/25\n",
      "2000/2000 [==============================] - 12s 6ms/step - loss: 0.3781 - accuracy: 0.1612 - val_loss: 0.3917 - val_accuracy: 0.2536\n",
      "Epoch 12/25\n",
      "2000/2000 [==============================] - 12s 6ms/step - loss: 0.3771 - accuracy: 0.1570 - val_loss: 0.3902 - val_accuracy: 0.2558\n",
      "Epoch 13/25\n",
      "2000/2000 [==============================] - 12s 6ms/step - loss: 0.3760 - accuracy: 0.1487 - val_loss: 0.3945 - val_accuracy: 0.1316\n",
      "Epoch 14/25\n",
      "2000/2000 [==============================] - 12s 6ms/step - loss: 0.3749 - accuracy: 0.1597 - val_loss: 0.3944 - val_accuracy: 0.0507\n",
      "Epoch 15/25\n",
      "2000/2000 [==============================] - 12s 6ms/step - loss: 0.3739 - accuracy: 0.1579 - val_loss: 0.3973 - val_accuracy: 0.0512\n",
      "Epoch 16/25\n",
      "2000/2000 [==============================] - 12s 6ms/step - loss: 0.3729 - accuracy: 0.1609 - val_loss: 0.3965 - val_accuracy: 0.2476\n",
      "Epoch 17/25\n",
      "2000/2000 [==============================] - 12s 6ms/step - loss: 0.3719 - accuracy: 0.1607 - val_loss: 0.3992 - val_accuracy: 0.2376\n",
      "Epoch 18/25\n",
      "2000/2000 [==============================] - 12s 6ms/step - loss: 0.3708 - accuracy: 0.1517 - val_loss: 0.4018 - val_accuracy: 0.1326\n",
      "Epoch 19/25\n",
      "2000/2000 [==============================] - 12s 6ms/step - loss: 0.3698 - accuracy: 0.1717 - val_loss: 0.4035 - val_accuracy: 0.1315\n",
      "Epoch 20/25\n",
      "2000/2000 [==============================] - 13s 6ms/step - loss: 0.3686 - accuracy: 0.1671 - val_loss: 0.4055 - val_accuracy: 0.0631\n",
      "Epoch 21/25\n",
      "2000/2000 [==============================] - 12s 6ms/step - loss: 0.3673 - accuracy: 0.1753 - val_loss: 0.4106 - val_accuracy: 0.1292\n",
      "Epoch 22/25\n",
      "2000/2000 [==============================] - 12s 6ms/step - loss: 0.3658 - accuracy: 0.1768 - val_loss: 0.4137 - val_accuracy: 0.2262\n",
      "Epoch 23/25\n",
      "2000/2000 [==============================] - 12s 6ms/step - loss: 0.3639 - accuracy: 0.1847 - val_loss: 0.4150 - val_accuracy: 0.2138\n",
      "Epoch 24/25\n",
      "2000/2000 [==============================] - 12s 6ms/step - loss: 0.3620 - accuracy: 0.1881 - val_loss: 0.4209 - val_accuracy: 0.1923\n",
      "Epoch 25/25\n",
      "2000/2000 [==============================] - 12s 6ms/step - loss: 0.3599 - accuracy: 0.1838 - val_loss: 0.4189 - val_accuracy: 0.2033\n"
     ]
    }
   ],
   "source": [
    "train_model(model, X_train, y_train, epochs=25)"
   ]
  },
  {
   "cell_type": "code",
   "execution_count": 35,
   "id": "ce0da8fc-f15a-484b-8328-02bb7247330e",
   "metadata": {},
   "outputs": [
    {
     "name": "stdout",
     "output_type": "stream",
     "text": [
      "625/625 [==============================] - 2s 3ms/step - loss: 0.4204 - accuracy: 0.2041\n",
      "Test Loss: 0.42036736011505127, Test Accuracy: 0.20406019687652588\n"
     ]
    }
   ],
   "source": [
    "evaluate_model(model, X_test, y_test)"
   ]
  },
  {
   "cell_type": "code",
   "execution_count": 36,
   "id": "e14f9dec-ea0a-479e-9f5d-33d912a672e3",
   "metadata": {},
   "outputs": [
    {
     "name": "stdout",
     "output_type": "stream",
     "text": [
      "Model: \"sequential_4\"\n",
      "_________________________________________________________________\n",
      " Layer (type)                Output Shape              Param #   \n",
      "=================================================================\n",
      " dense_26 (Dense)            (None, 128)               12928     \n",
      "                                                                 \n",
      " dense_27 (Dense)            (None, 256)               33024     \n",
      "                                                                 \n",
      " dense_28 (Dense)            (None, 512)               131584    \n",
      "                                                                 \n",
      " dense_29 (Dense)            (None, 256)               131328    \n",
      "                                                                 \n",
      " dense_30 (Dense)            (None, 128)               32896     \n",
      "                                                                 \n",
      " dense_31 (Dense)            (None, 64)                8256      \n",
      "                                                                 \n",
      " dense_32 (Dense)            (None, 32)                2080      \n",
      "                                                                 \n",
      " dense_33 (Dense)            (None, 20)                660       \n",
      "                                                                 \n",
      "=================================================================\n",
      "Total params: 352,756\n",
      "Trainable params: 352,756\n",
      "Non-trainable params: 0\n",
      "_________________________________________________________________\n"
     ]
    }
   ],
   "source": [
    "model.summary()"
   ]
  },
  {
   "cell_type": "code",
   "execution_count": 44,
   "id": "2deb0a29-30da-4877-8e14-91aefe124c8d",
   "metadata": {},
   "outputs": [],
   "source": [
    "a = [[1,0,0,0,0,0,1,1,1,0,1,0,0,0,0,0,1,0,1,1],\n",
    "     [1,0,0,0,0,0,1,1,0,0,1,0,0,0,1,0,1,0,1,1],\n",
    "     [1,0,0,0,0,0,1,0,1,0,1,0,0,0,1,0,1,0,1,0],\n",
    "     [1,0,0,0,0,0,1,1,1,0,1,0,0,0,0,0,1,0,1,1],\n",
    "     [1,0,0,1,0,0,1,0,0,0,1,0,0,0,0,0,1,0,1,0]]\n",
    "p = np.array(a).flatten()"
   ]
  },
  {
   "cell_type": "code",
   "execution_count": 51,
   "id": "6018f6eb-c21e-4c57-a7c9-bfba34df18fa",
   "metadata": {},
   "outputs": [
    {
     "name": "stdout",
     "output_type": "stream",
     "text": [
      "1/1 [==============================] - 0s 20ms/step\n"
     ]
    }
   ],
   "source": [
    "pred = model.predict(p.reshape(1,-1))"
   ]
  },
  {
   "cell_type": "code",
   "execution_count": 52,
   "id": "470acc3f-a721-4cf3-835a-6b149fce640e",
   "metadata": {},
   "outputs": [
    {
     "data": {
      "text/plain": [
       "array([[3.5651859e-02, 3.3720407e-01, 4.5434526e-01, 4.5775023e-01,\n",
       "        5.9493345e-01, 3.1622061e-01, 4.7770584e-01, 2.2695053e-01,\n",
       "        7.0371225e-02, 3.2020289e-02, 6.8116980e-03, 1.5200150e-01,\n",
       "        2.3246808e-02, 2.3184673e-01, 3.8898890e-04, 6.6295231e-04,\n",
       "        1.7758943e-02, 2.3093722e-04, 5.5641807e-03, 1.0896692e-06]],\n",
       "      dtype=float32)"
      ]
     },
     "execution_count": 52,
     "metadata": {},
     "output_type": "execute_result"
    }
   ],
   "source": [
    "pred"
   ]
  },
  {
   "cell_type": "code",
   "execution_count": 57,
   "id": "9e42c292-595a-422f-8c61-9871b5c6d145",
   "metadata": {},
   "outputs": [
    {
     "data": {
      "text/plain": [
       "array([[0, 0, 1, 1, 1, 0, 1, 0, 0, 0, 0, 0, 0, 0, 0, 0, 0, 0, 0, 0]])"
      ]
     },
     "execution_count": 57,
     "metadata": {},
     "output_type": "execute_result"
    }
   ],
   "source": [
    "(pred>0.4).astype(int)"
   ]
  },
  {
   "cell_type": "code",
   "execution_count": 58,
   "id": "f97f8a66-b5a2-41db-b641-c324bd5b762b",
   "metadata": {},
   "outputs": [
    {
     "name": "stdout",
     "output_type": "stream",
     "text": [
      "INFO:tensorflow:Assets written to: ann_model\\assets\n"
     ]
    }
   ],
   "source": [
    "model.save('ann_model')"
   ]
  },
  {
   "cell_type": "code",
   "execution_count": 59,
   "id": "61326334-e025-4fe3-bcdb-264d9777798d",
   "metadata": {},
   "outputs": [],
   "source": [
    "loaded_model = tf.keras.models.load_model('ann_model')"
   ]
  },
  {
   "cell_type": "code",
   "execution_count": 60,
   "id": "6832669c-cf9f-46d9-b701-d153a8a9e993",
   "metadata": {},
   "outputs": [
    {
     "name": "stdout",
     "output_type": "stream",
     "text": [
      "1/1 [==============================] - 0s 85ms/step\n"
     ]
    }
   ],
   "source": [
    "pred = loaded_model.predict(p.reshape(1,-1))"
   ]
  },
  {
   "cell_type": "code",
   "execution_count": 61,
   "id": "1ebaaf75-2120-4be8-889b-0f76124fa41c",
   "metadata": {},
   "outputs": [
    {
     "data": {
      "text/plain": [
       "array([[0, 0, 1, 1, 1, 0, 1, 0, 0, 0, 0, 0, 0, 0, 0, 0, 0, 0, 0, 0]])"
      ]
     },
     "execution_count": 61,
     "metadata": {},
     "output_type": "execute_result"
    }
   ],
   "source": [
    "(pred>0.4).astype(int)"
   ]
  },
  {
   "cell_type": "code",
   "execution_count": null,
   "id": "96d12cfb-fedd-4ca4-97a4-97fffa3acef0",
   "metadata": {},
   "outputs": [],
   "source": []
  }
 ],
 "metadata": {
  "kernelspec": {
   "display_name": "Python 3 (ipykernel)",
   "language": "python",
   "name": "python3"
  },
  "language_info": {
   "codemirror_mode": {
    "name": "ipython",
    "version": 3
   },
   "file_extension": ".py",
   "mimetype": "text/x-python",
   "name": "python",
   "nbconvert_exporter": "python",
   "pygments_lexer": "ipython3",
   "version": "3.9.18"
  }
 },
 "nbformat": 4,
 "nbformat_minor": 5
}
