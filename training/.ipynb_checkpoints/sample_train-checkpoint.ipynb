{
 "cells": [
  {
   "cell_type": "code",
   "execution_count": 3,
   "id": "05a24af9-0404-41c4-9d46-ccc8834e78d8",
   "metadata": {},
   "outputs": [],
   "source": [
    "import os\n",
    "import numpy as np\n",
    "import pandas as pd\n",
    "from tqdm import tqdm\n",
    "import tensorflow as tf\n",
    "from sklearn.model_selection import train_test_split"
   ]
  },
  {
   "cell_type": "code",
   "execution_count": 14,
   "id": "04f13e31-fa48-402f-9ea3-f05fb78ce56a",
   "metadata": {},
   "outputs": [],
   "source": [
    "def load_user_data():\n",
    "    dataset_dir = os.path.join('..','dataset_processing', 'sample_data')\n",
    "    df = pd.read_csv(dataset_dir+\"/order_list_20k_pattern.csv\")\n",
    "    orders = df.iloc[:, 1:].values\n",
    "    return orders"
   ]
  },
  {
   "cell_type": "code",
   "execution_count": 6,
   "id": "b5953a30-f657-4028-a663-e65d6cfc8f4f",
   "metadata": {},
   "outputs": [],
   "source": [
    "def generate_input_output_pairs(user_data, sequence_length):\n",
    "    input_seqs = []\n",
    "    output_seqs = []\n",
    "    for i in range(len(user_data) - sequence_length):\n",
    "        input_seq = np.array(user_data[i:i + sequence_length])\n",
    "        output_seq = np.array(user_data[i + sequence_length])\n",
    "        input_seqs.append(input_seq)\n",
    "        output_seqs.append(output_seq)\n",
    "    return np.array(input_seqs), np.array(output_seqs)"
   ]
  },
  {
   "cell_type": "code",
   "execution_count": 7,
   "id": "72826916-1570-4412-81db-e0d4d9be7dcc",
   "metadata": {},
   "outputs": [],
   "source": [
    "def build_lstm_model(input_shape, lstm_units=128, dropout_rate=0.2, num_outputs=1):\n",
    "    model = tf.keras.Sequential([\n",
    "        tf.keras.layers.LSTM(256, input_shape=(10, 20), return_sequences= True),\n",
    "        tf.keras.layers.LSTM(128, return_sequences= True),\n",
    "        tf.keras.layers.SimpleRNN(64),\n",
    "        tf.keras.layers.Dense(128, activation=\"relu\"),\n",
    "        tf.keras.layers.Dense(20, activation='sigmoid')\n",
    "    ])\n",
    "    return model"
   ]
  },
  {
   "cell_type": "code",
   "execution_count": 8,
   "id": "8a6eee8c-f151-488a-b434-c23a776d214d",
   "metadata": {},
   "outputs": [],
   "source": [
    "optimizer = tf.keras.optimizers.Adam()\n",
    "def train_model(model, X_train, y_train, epochs=10, batch_size=32, validation_split=0.2):\n",
    "    model.compile(loss='binary_crossentropy', optimizer=optimizer, metrics=['accuracy'])\n",
    "    model.fit(X_train, y_train, epochs=epochs, batch_size=batch_size, validation_split=validation_split)"
   ]
  },
  {
   "cell_type": "code",
   "execution_count": 9,
   "id": "18318264-fc26-45d5-ba63-cc233288bad6",
   "metadata": {},
   "outputs": [],
   "source": [
    "def evaluate_model(model, X_test, y_test):\n",
    "    loss, accuracy = model.evaluate(X_test, y_test)\n",
    "    print(f\"Test Loss: {loss}, Test Accuracy: {accuracy}\")"
   ]
  },
  {
   "cell_type": "code",
   "execution_count": 15,
   "id": "6ded2544-83ba-43db-bae0-dd7ca2b9e4ac",
   "metadata": {},
   "outputs": [],
   "source": [
    "user_data = load_user_data()\n",
    "input_arr, output_arr = generate_input_output_pairs(user_data, 10)"
   ]
  },
  {
   "cell_type": "code",
   "execution_count": 16,
   "id": "4dc184d2-8cd8-4ec9-bb2b-3c729c04749a",
   "metadata": {},
   "outputs": [],
   "source": [
    "X_train, X_test, y_train, y_test = train_test_split(input_arr, output_arr, test_size=0.2, random_state=42)"
   ]
  },
  {
   "cell_type": "code",
   "execution_count": 17,
   "id": "fc512b67-e3b2-423c-b527-210a650c59e5",
   "metadata": {},
   "outputs": [],
   "source": [
    "model = build_lstm_model((1,2))"
   ]
  },
  {
   "cell_type": "code",
   "execution_count": 18,
   "id": "2ff94b52-2270-498c-b435-c2df960ce68d",
   "metadata": {},
   "outputs": [
    {
     "name": "stdout",
     "output_type": "stream",
     "text": [
      "Epoch 1/25\n",
      "400/400 [==============================] - 14s 27ms/step - loss: 0.3890 - accuracy: 0.1541 - val_loss: 0.3838 - val_accuracy: 0.1247\n",
      "Epoch 2/25\n",
      "400/400 [==============================] - 10s 26ms/step - loss: 0.3846 - accuracy: 0.1483 - val_loss: 0.3827 - val_accuracy: 0.1247\n",
      "Epoch 3/25\n",
      "400/400 [==============================] - 10s 26ms/step - loss: 0.3844 - accuracy: 0.1717 - val_loss: 0.3831 - val_accuracy: 0.1247\n",
      "Epoch 4/25\n",
      "400/400 [==============================] - 10s 25ms/step - loss: 0.3844 - accuracy: 0.1718 - val_loss: 0.3834 - val_accuracy: 0.2573\n",
      "Epoch 5/25\n",
      "400/400 [==============================] - 10s 25ms/step - loss: 0.3840 - accuracy: 0.1681 - val_loss: 0.3828 - val_accuracy: 0.2573\n",
      "Epoch 6/25\n",
      "400/400 [==============================] - 10s 25ms/step - loss: 0.3841 - accuracy: 0.1771 - val_loss: 0.3838 - val_accuracy: 0.1247\n",
      "Epoch 7/25\n",
      "400/400 [==============================] - 10s 24ms/step - loss: 0.3842 - accuracy: 0.1696 - val_loss: 0.3831 - val_accuracy: 0.1247\n",
      "Epoch 8/25\n",
      "400/400 [==============================] - 10s 26ms/step - loss: 0.3839 - accuracy: 0.1710 - val_loss: 0.3824 - val_accuracy: 0.1247\n",
      "Epoch 9/25\n",
      "400/400 [==============================] - 10s 26ms/step - loss: 0.3840 - accuracy: 0.1652 - val_loss: 0.3837 - val_accuracy: 0.0569\n",
      "Epoch 10/25\n",
      "400/400 [==============================] - 10s 26ms/step - loss: 0.3840 - accuracy: 0.1592 - val_loss: 0.3823 - val_accuracy: 0.1247\n",
      "Epoch 11/25\n",
      "400/400 [==============================] - 10s 26ms/step - loss: 0.3839 - accuracy: 0.1629 - val_loss: 0.3821 - val_accuracy: 0.0569\n",
      "Epoch 12/25\n",
      "400/400 [==============================] - 10s 26ms/step - loss: 0.3839 - accuracy: 0.1866 - val_loss: 0.3827 - val_accuracy: 0.0569\n",
      "Epoch 13/25\n",
      "400/400 [==============================] - 10s 25ms/step - loss: 0.3839 - accuracy: 0.1632 - val_loss: 0.3823 - val_accuracy: 0.2573\n",
      "Epoch 14/25\n",
      "400/400 [==============================] - 10s 26ms/step - loss: 0.3838 - accuracy: 0.1862 - val_loss: 0.3824 - val_accuracy: 0.2573\n",
      "Epoch 15/25\n",
      "400/400 [==============================] - 10s 25ms/step - loss: 0.3838 - accuracy: 0.1829 - val_loss: 0.3828 - val_accuracy: 0.2573\n",
      "Epoch 16/25\n",
      "400/400 [==============================] - 10s 25ms/step - loss: 0.3839 - accuracy: 0.1702 - val_loss: 0.3827 - val_accuracy: 0.2573\n",
      "Epoch 17/25\n",
      "400/400 [==============================] - 10s 26ms/step - loss: 0.3838 - accuracy: 0.1729 - val_loss: 0.3827 - val_accuracy: 0.1247\n",
      "Epoch 18/25\n",
      "400/400 [==============================] - 10s 26ms/step - loss: 0.3837 - accuracy: 0.1649 - val_loss: 0.3820 - val_accuracy: 0.0569\n",
      "Epoch 19/25\n",
      "400/400 [==============================] - 10s 26ms/step - loss: 0.3838 - accuracy: 0.1778 - val_loss: 0.3825 - val_accuracy: 0.2573\n",
      "Epoch 20/25\n",
      "400/400 [==============================] - 10s 26ms/step - loss: 0.3837 - accuracy: 0.1790 - val_loss: 0.3820 - val_accuracy: 0.1247\n",
      "Epoch 21/25\n",
      "400/400 [==============================] - 10s 26ms/step - loss: 0.3837 - accuracy: 0.1812 - val_loss: 0.3826 - val_accuracy: 0.1247\n",
      "Epoch 22/25\n",
      "400/400 [==============================] - 10s 26ms/step - loss: 0.3837 - accuracy: 0.1654 - val_loss: 0.3827 - val_accuracy: 0.2573\n",
      "Epoch 23/25\n",
      "400/400 [==============================] - 10s 25ms/step - loss: 0.3836 - accuracy: 0.1757 - val_loss: 0.3823 - val_accuracy: 0.0569\n",
      "Epoch 24/25\n",
      "400/400 [==============================] - 10s 26ms/step - loss: 0.3836 - accuracy: 0.1891 - val_loss: 0.3820 - val_accuracy: 0.2573\n",
      "Epoch 25/25\n",
      "400/400 [==============================] - 10s 26ms/step - loss: 0.3836 - accuracy: 0.1764 - val_loss: 0.3829 - val_accuracy: 0.2573\n"
     ]
    }
   ],
   "source": [
    "train_model(model, X_train, y_train, epochs=25)"
   ]
  },
  {
   "cell_type": "code",
   "execution_count": 19,
   "id": "6bb8b927-8a9f-4899-8238-552ef0f552d7",
   "metadata": {},
   "outputs": [
    {
     "name": "stdout",
     "output_type": "stream",
     "text": [
      "125/125 [==============================] - 1s 7ms/step - loss: 0.3857 - accuracy: 0.2526\n",
      "Test Loss: 0.38572633266448975, Test Accuracy: 0.25262629985809326\n"
     ]
    }
   ],
   "source": [
    "evaluate_model(model, X_test, y_test)"
   ]
  },
  {
   "cell_type": "code",
   "execution_count": 20,
   "id": "a2ef056d-0939-4382-a01a-01d26577ca8a",
   "metadata": {},
   "outputs": [
    {
     "name": "stdout",
     "output_type": "stream",
     "text": [
      "Model: \"sequential_1\"\n",
      "_________________________________________________________________\n",
      " Layer (type)                Output Shape              Param #   \n",
      "=================================================================\n",
      " lstm_2 (LSTM)               (None, 10, 256)           283648    \n",
      "                                                                 \n",
      " lstm_3 (LSTM)               (None, 10, 128)           197120    \n",
      "                                                                 \n",
      " simple_rnn_1 (SimpleRNN)    (None, 64)                12352     \n",
      "                                                                 \n",
      " dense_2 (Dense)             (None, 128)               8320      \n",
      "                                                                 \n",
      " dense_3 (Dense)             (None, 20)                2580      \n",
      "                                                                 \n",
      "=================================================================\n",
      "Total params: 504,020\n",
      "Trainable params: 504,020\n",
      "Non-trainable params: 0\n",
      "_________________________________________________________________\n"
     ]
    }
   ],
   "source": [
    "model.summary()"
   ]
  },
  {
   "cell_type": "code",
   "execution_count": 22,
   "id": "881721df-bd7c-42ae-ba5c-47863088de37",
   "metadata": {},
   "outputs": [
    {
     "name": "stderr",
     "output_type": "stream",
     "text": [
      "WARNING:absl:Found untraced functions such as lstm_cell_2_layer_call_fn, lstm_cell_2_layer_call_and_return_conditional_losses, lstm_cell_3_layer_call_fn, lstm_cell_3_layer_call_and_return_conditional_losses while saving (showing 4 of 4). These functions will not be directly callable after loading.\n"
     ]
    },
    {
     "name": "stdout",
     "output_type": "stream",
     "text": [
      "INFO:tensorflow:Assets written to: lstm_model\\assets\n"
     ]
    },
    {
     "name": "stderr",
     "output_type": "stream",
     "text": [
      "INFO:tensorflow:Assets written to: lstm_model\\assets\n"
     ]
    }
   ],
   "source": [
    "model.save('lstm_model')"
   ]
  },
  {
   "cell_type": "code",
   "execution_count": null,
   "id": "6fa32c53-4d26-47b2-8a03-65433a8675ec",
   "metadata": {},
   "outputs": [],
   "source": []
  }
 ],
 "metadata": {
  "kernelspec": {
   "display_name": "Python 3 (ipykernel)",
   "language": "python",
   "name": "python3"
  },
  "language_info": {
   "codemirror_mode": {
    "name": "ipython",
    "version": 3
   },
   "file_extension": ".py",
   "mimetype": "text/x-python",
   "name": "python",
   "nbconvert_exporter": "python",
   "pygments_lexer": "ipython3",
   "version": "3.9.18"
  }
 },
 "nbformat": 4,
 "nbformat_minor": 5
}
