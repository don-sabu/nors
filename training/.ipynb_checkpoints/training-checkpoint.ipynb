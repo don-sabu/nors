{
 "cells": [
  {
   "cell_type": "code",
   "execution_count": 1,
   "id": "c1e3130e-6253-43f5-be4b-90685f9841aa",
   "metadata": {},
   "outputs": [],
   "source": [
    "import os\n",
    "import numpy as np\n",
    "import pandas as pd\n",
    "from tqdm import tqdm\n",
    "import tensorflow as tf\n",
    "from sklearn.model_selection import train_test_split"
   ]
  },
  {
   "cell_type": "code",
   "execution_count": 3,
   "id": "3c05666d-b90f-401e-bdea-04b9a153cb3b",
   "metadata": {},
   "outputs": [],
   "source": [
    " def load_user_data(user_id):\n",
    "    dataset_dir = os.path.join('..','dataset_processing', 'transformed_data', user_id,)\n",
    "    df = pd.read_csv(dataset_dir+\"/train.csv\")\n",
    "    orders = df.iloc[:, 2:].values\n",
    "    return orders"
   ]
  },
  {
   "cell_type": "code",
   "execution_count": 4,
   "id": "9a0d2f10-bee4-4f69-89d0-a2a35f0ecbfb",
   "metadata": {},
   "outputs": [],
   "source": [
    "def generate_input_output_pairs(user_data, sequence_length):\n",
    "    input_seqs = []\n",
    "    output_seqs = []\n",
    "    for i in range(len(user_data) - sequence_length):\n",
    "        input_seq = np.array(user_data[i:i + sequence_length])\n",
    "        output_seq = np.array(user_data[i + sequence_length])\n",
    "        input_seqs.append(input_seq)\n",
    "        output_seqs.append(output_seq)\n",
    "    return input_seqs, output_seqs"
   ]
  },
  {
   "cell_type": "code",
   "execution_count": 22,
   "id": "43784bb4-5b17-4df6-9f72-e231fa3bf4b1",
   "metadata": {},
   "outputs": [],
   "source": [
    "def build_lstm_model(input_shape, lstm_units=64, dropout_rate=0.2, num_outputs=1):\n",
    "    # model = tf.keras.Sequential([\n",
    "    #     tf.keras.layers.LSTM(lstm_units, input_shape=input_shape, return_sequences=True),\n",
    "    #     tf.keras.layers.Dropout(dropout_rate),\n",
    "    #     tf.keras.layers.TimeDistributed(tf.keras.layers.Dense(num_outputs, activation='sigmoid'))\n",
    "    # ])\n",
    "   \n",
    "    model = tf.keras.Sequential([\n",
    "        tf.keras.layers.LSTM(lstm_units, input_shape=(5, 4615)),\n",
    "        tf.keras.layers.Dense(4615, activation='sigmoid')\n",
    "    ])\n",
    "    return model"
   ]
  },
  {
   "cell_type": "code",
   "execution_count": 7,
   "id": "75d0faf1-bc8d-41ed-9156-e505d73fd41b",
   "metadata": {},
   "outputs": [],
   "source": [
    "optimizer = tf.keras.optimizers.Adam()\n",
    "def train_model(model, X_train, y_train, epochs=10, batch_size=32, validation_split=0.2):\n",
    "    model.compile(loss='binary_crossentropy', optimizer=optimizer, metrics=['accuracy'])\n",
    "    model.fit(X_train, y_train, epochs=epochs, batch_size=batch_size, validation_split=validation_split)"
   ]
  },
  {
   "cell_type": "code",
   "execution_count": 8,
   "id": "bf1c4333-30ef-4ead-b1f6-0fb71ee19146",
   "metadata": {},
   "outputs": [],
   "source": [
    "def evaluate_model(model, X_test, y_test):\n",
    "    loss, accuracy = model.evaluate(X_test, y_test)\n",
    "    print(f\"Test Loss: {loss}, Test Accuracy: {accuracy}\")"
   ]
  },
  {
   "cell_type": "code",
   "execution_count": 9,
   "id": "e3b57a74-f302-4dc6-b17e-9c36ecd97c9b",
   "metadata": {},
   "outputs": [],
   "source": [
    "users = os.listdir(os.path.join('..','dataset_processing', 'transformed_data'))"
   ]
  },
  {
   "cell_type": "code",
   "execution_count": 10,
   "id": "9212db07-e591-49db-bba9-0d45e747ffff",
   "metadata": {},
   "outputs": [
    {
     "name": "stderr",
     "output_type": "stream",
     "text": [
      "Processing Users: 100%|█████████████████████████████████████████████████████████████████████████████████████████████████████████████████████████████████████████████████| 831/831 [01:42<00:00,  8.12it/s]\n"
     ]
    }
   ],
   "source": [
    "input_seq = []\n",
    "output_seq = []\n",
    "for user in tqdm(users, desc=\"Processing Users\"):\n",
    "    user_data = load_user_data(f\"{user}\")\n",
    "    input, output = generate_input_output_pairs(user_data, 5)\n",
    "    input_seq += input\n",
    "    output_seq += output\n",
    "input_arr = np.array(input_seq)\n",
    "output_arr = np.array(output_seq)"
   ]
  },
  {
   "cell_type": "code",
   "execution_count": 11,
   "id": "6543f3d1-5ad4-4c87-aa48-abce7ffa57ae",
   "metadata": {},
   "outputs": [],
   "source": [
    "input_seq = None"
   ]
  },
  {
   "cell_type": "code",
   "execution_count": 12,
   "id": "5c90a1e4-0161-4acb-bc90-b8df29bdeb98",
   "metadata": {},
   "outputs": [],
   "source": [
    "output_seq = None"
   ]
  },
  {
   "cell_type": "code",
   "execution_count": 13,
   "id": "a9f2fdae-232c-4296-8bb3-bafc639d8121",
   "metadata": {},
   "outputs": [],
   "source": [
    "X_train, X_test, y_train, y_test = train_test_split(input_arr, output_arr, test_size=0.2, random_state=42)"
   ]
  },
  {
   "cell_type": "code",
   "execution_count": 14,
   "id": "066e1b32-ddf6-4b73-ab15-76b0368673a9",
   "metadata": {},
   "outputs": [],
   "source": [
    "input_arr = output_arr = None"
   ]
  },
  {
   "cell_type": "code",
   "execution_count": 15,
   "id": "4054eef2-d115-40b3-8d72-8390241d4e38",
   "metadata": {},
   "outputs": [],
   "source": [
    "user_data = None"
   ]
  },
  {
   "cell_type": "code",
   "execution_count": 23,
   "id": "7ad9b7de-0375-4a65-93ae-37ef76199c29",
   "metadata": {},
   "outputs": [],
   "source": [
    "model = build_lstm_model((1,2))"
   ]
  },
  {
   "cell_type": "code",
   "execution_count": 24,
   "id": "d3216fd2-17a6-4b92-a04e-9d9361a557d3",
   "metadata": {},
   "outputs": [
    {
     "name": "stdout",
     "output_type": "stream",
     "text": [
      "Epoch 1/10\n",
      "687/687 [==============================] - 13s 10ms/step - loss: nan - accuracy: 0.0925 - val_loss: nan - val_accuracy: 0.0015\n",
      "Epoch 2/10\n",
      "687/687 [==============================] - 5s 7ms/step - loss: nan - accuracy: 0.0010 - val_loss: nan - val_accuracy: 0.0015\n",
      "Epoch 3/10\n",
      "687/687 [==============================] - 5s 7ms/step - loss: nan - accuracy: 0.0010 - val_loss: nan - val_accuracy: 0.0015\n",
      "Epoch 4/10\n",
      "687/687 [==============================] - 5s 7ms/step - loss: nan - accuracy: 0.0010 - val_loss: nan - val_accuracy: 0.0015\n",
      "Epoch 5/10\n",
      "687/687 [==============================] - 5s 7ms/step - loss: nan - accuracy: 0.0010 - val_loss: nan - val_accuracy: 0.0015\n",
      "Epoch 6/10\n",
      "687/687 [==============================] - 5s 7ms/step - loss: nan - accuracy: 0.0010 - val_loss: nan - val_accuracy: 0.0015\n",
      "Epoch 7/10\n",
      "687/687 [==============================] - 5s 7ms/step - loss: nan - accuracy: 0.0010 - val_loss: nan - val_accuracy: 0.0015\n",
      "Epoch 8/10\n",
      "687/687 [==============================] - 5s 7ms/step - loss: nan - accuracy: 0.0010 - val_loss: nan - val_accuracy: 0.0015\n",
      "Epoch 9/10\n",
      "687/687 [==============================] - 5s 7ms/step - loss: nan - accuracy: 0.0010 - val_loss: nan - val_accuracy: 0.0015\n",
      "Epoch 10/10\n",
      "687/687 [==============================] - 5s 7ms/step - loss: nan - accuracy: 0.0010 - val_loss: nan - val_accuracy: 0.0015\n"
     ]
    }
   ],
   "source": [
    "train_model(model, X_train, y_train)"
   ]
  },
  {
   "cell_type": "code",
   "execution_count": 18,
   "id": "9870b79b-e618-4af6-b3c1-7538fe9b55d8",
   "metadata": {},
   "outputs": [
    {
     "data": {
      "text/plain": [
       "(27443, 5, 4615)"
      ]
     },
     "execution_count": 18,
     "metadata": {},
     "output_type": "execute_result"
    }
   ],
   "source": [
    "X_train.shape"
   ]
  },
  {
   "cell_type": "code",
   "execution_count": 28,
   "id": "0f8ad444-1caa-43be-b765-b81646344bb9",
   "metadata": {},
   "outputs": [
    {
     "name": "stdout",
     "output_type": "stream",
     "text": [
      "Model: \"sequential_2\"\n",
      "_________________________________________________________________\n",
      " Layer (type)                Output Shape              Param #   \n",
      "=================================================================\n",
      " lstm_4 (LSTM)               (None, 64)                1198080   \n",
      "                                                                 \n",
      " dense_2 (Dense)             (None, 4615)              299975    \n",
      "                                                                 \n",
      "=================================================================\n",
      "Total params: 1,498,055\n",
      "Trainable params: 1,498,055\n",
      "Non-trainable params: 0\n",
      "_________________________________________________________________\n"
     ]
    }
   ],
   "source": [
    "model.summary()"
   ]
  },
  {
   "cell_type": "code",
   "execution_count": 102,
   "id": "32f66a77-928c-4bc5-993a-d6cffecef84a",
   "metadata": {},
   "outputs": [
    {
     "data": {
      "text/plain": [
       "(1868, 4615)"
      ]
     },
     "execution_count": 102,
     "metadata": {},
     "output_type": "execute_result"
    }
   ],
   "source": [
    "y_train.shape"
   ]
  },
  {
   "cell_type": "code",
   "execution_count": 27,
   "id": "fe54ffd0-15dc-4c77-b288-f42c18416e3d",
   "metadata": {},
   "outputs": [
    {
     "ename": "AttributeError",
     "evalue": "module 'keras.api._v2.keras.utils' has no attribute 'vis_utils'",
     "output_type": "error",
     "traceback": [
      "\u001b[1;31m---------------------------------------------------------------------------\u001b[0m",
      "\u001b[1;31mAttributeError\u001b[0m                            Traceback (most recent call last)",
      "Cell \u001b[1;32mIn[27], line 1\u001b[0m\n\u001b[1;32m----> 1\u001b[0m \u001b[43mtf\u001b[49m\u001b[38;5;241;43m.\u001b[39;49m\u001b[43mkeras\u001b[49m\u001b[38;5;241;43m.\u001b[39;49m\u001b[43mutils\u001b[49m\u001b[38;5;241;43m.\u001b[39;49m\u001b[43mvis_utils\u001b[49m\u001b[38;5;241m.\u001b[39mplot_model(model, to_file\u001b[38;5;241m=\u001b[39m\u001b[38;5;124m'\u001b[39m\u001b[38;5;124mmodel_plot.png\u001b[39m\u001b[38;5;124m'\u001b[39m, show_shapes\u001b[38;5;241m=\u001b[39m\u001b[38;5;28;01mTrue\u001b[39;00m, show_layer_names\u001b[38;5;241m=\u001b[39m\u001b[38;5;28;01mTrue\u001b[39;00m)\n",
      "\u001b[1;31mAttributeError\u001b[0m: module 'keras.api._v2.keras.utils' has no attribute 'vis_utils'"
     ]
    }
   ],
   "source": []
  },
  {
   "cell_type": "code",
   "execution_count": null,
   "id": "364ca978-fe3c-4218-addd-908219a9fa47",
   "metadata": {},
   "outputs": [],
   "source": []
  }
 ],
 "metadata": {
  "kernelspec": {
   "display_name": "Python 3 (ipykernel)",
   "language": "python",
   "name": "python3"
  },
  "language_info": {
   "codemirror_mode": {
    "name": "ipython",
    "version": 3
   },
   "file_extension": ".py",
   "mimetype": "text/x-python",
   "name": "python",
   "nbconvert_exporter": "python",
   "pygments_lexer": "ipython3",
   "version": "3.9.18"
  }
 },
 "nbformat": 4,
 "nbformat_minor": 5
}
