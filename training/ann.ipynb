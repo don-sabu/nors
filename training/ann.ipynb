{
 "cells": [
  {
   "cell_type": "code",
   "execution_count": 1,
   "id": "579cb345-9c3b-4c24-ac60-4cdd91e1165a",
   "metadata": {},
   "outputs": [],
   "source": [
    "import os\n",
    "import numpy as np\n",
    "import pandas as pd\n",
    "from tqdm import tqdm\n",
    "import tensorflow as tf\n",
    "from sklearn.model_selection import train_test_split"
   ]
  },
  {
   "cell_type": "code",
   "execution_count": 2,
   "id": "961fb5cf-21a2-4b4f-9cb8-4af443bbac93",
   "metadata": {},
   "outputs": [],
   "source": [
    "def load_user_data():\n",
    "    dataset_dir = os.path.join('..','dataset_processing', 'sample_data')\n",
    "    df = pd.read_csv(dataset_dir+\"/order_list_100k_pattern.csv\")\n",
    "    orders = df.iloc[:, 1:].values\n",
    "    return orders"
   ]
  },
  {
   "cell_type": "code",
   "execution_count": 3,
   "id": "e981fa78-e5c6-455e-852a-91da3ddaed7d",
   "metadata": {},
   "outputs": [],
   "source": [
    "def generate_input_output_pairs(user_data, sequence_length):\n",
    "    input_seqs = []\n",
    "    output_seqs = []\n",
    "    for i in range(len(user_data) - sequence_length):\n",
    "        input_seq = np.array(user_data[i:i + sequence_length]).flatten()  # Flatten the input sequence\n",
    "        output_seq = np.array(user_data[i + sequence_length])\n",
    "        input_seqs.append(input_seq)\n",
    "        output_seqs.append(output_seq)\n",
    "    return np.array(input_seqs), np.array(output_seqs)"
   ]
  },
  {
   "cell_type": "code",
   "execution_count": 4,
   "id": "116f8831-20ed-4e29-9646-5a76cbace61b",
   "metadata": {},
   "outputs": [],
   "source": [
    "def build_ann_model(input_shape, num_outputs):\n",
    "    model = tf.keras.Sequential([\n",
    "        tf.keras.layers.Dense(128, activation='relu', input_shape=(input_shape,)),\n",
    "        tf.keras.layers.Dense(256, activation='relu'),\n",
    "        tf.keras.layers.Dense(512, activation='relu'),\n",
    "        tf.keras.layers.Dense(256, activation='relu'),\n",
    "        tf.keras.layers.Dense(128, activation='relu'),\n",
    "        tf.keras.layers.Dense(64, activation='relu'),\n",
    "        tf.keras.layers.Dense(32, activation='relu'),\n",
    "        tf.keras.layers.Dense(num_outputs, activation='sigmoid')\n",
    "    ])\n",
    "    return model"
   ]
  },
  {
   "cell_type": "code",
   "execution_count": 5,
   "id": "d59578ff-9d1a-49b6-9829-9671b5830246",
   "metadata": {},
   "outputs": [],
   "source": [
    "def train_model(model, X_train, y_train, epochs=10, batch_size=32, validation_split=0.2):\n",
    "    model.compile(loss='binary_crossentropy', optimizer='adam', metrics=['accuracy'])\n",
    "    model.fit(X_train, y_train, epochs=epochs, batch_size=batch_size, validation_split=validation_split)"
   ]
  },
  {
   "cell_type": "code",
   "execution_count": 6,
   "id": "174d52d1-c39e-422b-b823-7319c8391847",
   "metadata": {},
   "outputs": [],
   "source": [
    "def evaluate_model(model, X_test, y_test):\n",
    "    loss, accuracy = model.evaluate(X_test, y_test)\n",
    "    print(f\"Test Loss: {loss}, Test Accuracy: {accuracy}\")"
   ]
  },
  {
   "cell_type": "code",
   "execution_count": 7,
   "id": "734051fc-cc83-4906-9f5f-d8b54da5f14e",
   "metadata": {},
   "outputs": [],
   "source": [
    "SEQUENCE_LENGTH = 5\n",
    "PRODUCT_SIZE = 20\n",
    "user_data = load_user_data()\n",
    "input_arr, output_arr = generate_input_output_pairs(user_data, SEQUENCE_LENGTH)"
   ]
  },
  {
   "cell_type": "code",
   "execution_count": 8,
   "id": "9a996888-1ef2-4e48-b74e-75247b2b1c53",
   "metadata": {},
   "outputs": [],
   "source": [
    "X_train, X_test, y_train, y_test = train_test_split(input_arr, output_arr, test_size=0.2, random_state=42)"
   ]
  },
  {
   "cell_type": "code",
   "execution_count": 9,
   "id": "fa7631de-cce0-412f-9f2c-baaf86d5d430",
   "metadata": {},
   "outputs": [],
   "source": [
    "model = build_ann_model(SEQUENCE_LENGTH*PRODUCT_SIZE,PRODUCT_SIZE)"
   ]
  },
  {
   "cell_type": "code",
   "execution_count": 10,
   "id": "d02de963-83e9-45ee-bb57-06f64a80cf4a",
   "metadata": {},
   "outputs": [
    {
     "name": "stdout",
     "output_type": "stream",
     "text": [
      "Epoch 1/25\n",
      "2000/2000 [==============================] - 20s 8ms/step - loss: 0.3887 - accuracy: 0.1454 - val_loss: 0.3851 - val_accuracy: 0.2565\n",
      "Epoch 2/25\n",
      "2000/2000 [==============================] - 16s 8ms/step - loss: 0.3853 - accuracy: 0.1482 - val_loss: 0.3844 - val_accuracy: 0.1316\n",
      "Epoch 3/25\n",
      "2000/2000 [==============================] - 16s 8ms/step - loss: 0.3850 - accuracy: 0.1510 - val_loss: 0.3843 - val_accuracy: 0.2565\n",
      "Epoch 4/25\n",
      "2000/2000 [==============================] - 16s 8ms/step - loss: 0.3847 - accuracy: 0.1535 - val_loss: 0.3842 - val_accuracy: 0.0618\n",
      "Epoch 5/25\n",
      "2000/2000 [==============================] - 16s 8ms/step - loss: 0.3842 - accuracy: 0.1565 - val_loss: 0.3849 - val_accuracy: 0.2565\n",
      "Epoch 6/25\n",
      "2000/2000 [==============================] - 16s 8ms/step - loss: 0.3835 - accuracy: 0.1435 - val_loss: 0.3853 - val_accuracy: 0.0505\n",
      "Epoch 7/25\n",
      "2000/2000 [==============================] - 16s 8ms/step - loss: 0.3825 - accuracy: 0.1535 - val_loss: 0.3861 - val_accuracy: 0.1112\n",
      "Epoch 8/25\n",
      "2000/2000 [==============================] - 16s 8ms/step - loss: 0.3815 - accuracy: 0.1507 - val_loss: 0.3869 - val_accuracy: 0.0657\n",
      "Epoch 9/25\n",
      "2000/2000 [==============================] - 16s 8ms/step - loss: 0.3803 - accuracy: 0.1533 - val_loss: 0.3878 - val_accuracy: 0.1176\n",
      "Epoch 10/25\n",
      "2000/2000 [==============================] - 16s 8ms/step - loss: 0.3792 - accuracy: 0.1470 - val_loss: 0.3893 - val_accuracy: 0.1316\n",
      "Epoch 11/25\n",
      "2000/2000 [==============================] - 16s 8ms/step - loss: 0.3781 - accuracy: 0.1406 - val_loss: 0.3901 - val_accuracy: 0.0712\n",
      "Epoch 12/25\n",
      "2000/2000 [==============================] - 16s 8ms/step - loss: 0.3770 - accuracy: 0.1440 - val_loss: 0.3936 - val_accuracy: 0.0809\n",
      "Epoch 13/25\n",
      "2000/2000 [==============================] - 16s 8ms/step - loss: 0.3758 - accuracy: 0.1454 - val_loss: 0.3929 - val_accuracy: 0.2564\n",
      "Epoch 14/25\n",
      "2000/2000 [==============================] - 16s 8ms/step - loss: 0.3748 - accuracy: 0.1399 - val_loss: 0.3938 - val_accuracy: 0.0677\n",
      "Epoch 15/25\n",
      "2000/2000 [==============================] - 16s 8ms/step - loss: 0.3737 - accuracy: 0.1404 - val_loss: 0.3981 - val_accuracy: 0.0566\n",
      "Epoch 16/25\n",
      "2000/2000 [==============================] - 16s 8ms/step - loss: 0.3727 - accuracy: 0.1339 - val_loss: 0.3970 - val_accuracy: 0.2317\n",
      "Epoch 17/25\n",
      "2000/2000 [==============================] - 16s 8ms/step - loss: 0.3716 - accuracy: 0.1407 - val_loss: 0.4012 - val_accuracy: 0.1106\n",
      "Epoch 18/25\n",
      "2000/2000 [==============================] - 16s 8ms/step - loss: 0.3705 - accuracy: 0.1482 - val_loss: 0.4060 - val_accuracy: 0.2233\n",
      "Epoch 19/25\n",
      "2000/2000 [==============================] - 3616s 2s/step - loss: 0.3694 - accuracy: 0.1519 - val_loss: 0.4059 - val_accuracy: 0.2240\n",
      "Epoch 20/25\n",
      "2000/2000 [==============================] - 2387s 1s/step - loss: 0.3682 - accuracy: 0.1464 - val_loss: 0.4101 - val_accuracy: 0.1533\n",
      "Epoch 21/25\n",
      "2000/2000 [==============================] - 11s 6ms/step - loss: 0.3665 - accuracy: 0.1451 - val_loss: 0.4107 - val_accuracy: 0.2119\n",
      "Epoch 22/25\n",
      "2000/2000 [==============================] - 11s 6ms/step - loss: 0.3648 - accuracy: 0.1445 - val_loss: 0.4106 - val_accuracy: 0.1699\n",
      "Epoch 23/25\n",
      "2000/2000 [==============================] - 10s 5ms/step - loss: 0.3627 - accuracy: 0.1414 - val_loss: 0.4225 - val_accuracy: 0.0841\n",
      "Epoch 24/25\n",
      "2000/2000 [==============================] - 11s 5ms/step - loss: 0.3606 - accuracy: 0.1451 - val_loss: 0.4228 - val_accuracy: 0.1988\n",
      "Epoch 25/25\n",
      "2000/2000 [==============================] - 11s 6ms/step - loss: 0.3584 - accuracy: 0.1431 - val_loss: 0.4270 - val_accuracy: 0.1261\n"
     ]
    }
   ],
   "source": [
    "train_model(model, X_train, y_train, epochs=25)"
   ]
  },
  {
   "cell_type": "code",
   "execution_count": 11,
   "id": "ce0da8fc-f15a-484b-8328-02bb7247330e",
   "metadata": {},
   "outputs": [
    {
     "name": "stdout",
     "output_type": "stream",
     "text": [
      "625/625 [==============================] - 2s 3ms/step - loss: 0.4277 - accuracy: 0.1247\n",
      "Test Loss: 0.42770645022392273, Test Accuracy: 0.12465623021125793\n"
     ]
    }
   ],
   "source": [
    "evaluate_model(model, X_test, y_test)"
   ]
  },
  {
   "cell_type": "code",
   "execution_count": 12,
   "id": "e14f9dec-ea0a-479e-9f5d-33d912a672e3",
   "metadata": {},
   "outputs": [
    {
     "name": "stdout",
     "output_type": "stream",
     "text": [
      "Model: \"sequential\"\n",
      "_________________________________________________________________\n",
      " Layer (type)                Output Shape              Param #   \n",
      "=================================================================\n",
      " dense (Dense)               (None, 128)               12928     \n",
      "                                                                 \n",
      " dense_1 (Dense)             (None, 256)               33024     \n",
      "                                                                 \n",
      " dense_2 (Dense)             (None, 512)               131584    \n",
      "                                                                 \n",
      " dense_3 (Dense)             (None, 256)               131328    \n",
      "                                                                 \n",
      " dense_4 (Dense)             (None, 128)               32896     \n",
      "                                                                 \n",
      " dense_5 (Dense)             (None, 64)                8256      \n",
      "                                                                 \n",
      " dense_6 (Dense)             (None, 32)                2080      \n",
      "                                                                 \n",
      " dense_7 (Dense)             (None, 20)                660       \n",
      "                                                                 \n",
      "=================================================================\n",
      "Total params: 352,756\n",
      "Trainable params: 352,756\n",
      "Non-trainable params: 0\n",
      "_________________________________________________________________\n"
     ]
    }
   ],
   "source": [
    "model.summary()"
   ]
  },
  {
   "cell_type": "code",
   "execution_count": 13,
   "id": "2deb0a29-30da-4877-8e14-91aefe124c8d",
   "metadata": {},
   "outputs": [],
   "source": [
    "a = [[1,0,0,0,0,0,1,1,1,0,1,0,0,0,0,0,1,0,1,1],\n",
    "     [1,0,0,0,0,0,1,1,0,0,1,0,0,0,1,0,1,0,1,1],\n",
    "     [1,0,0,0,0,0,1,0,1,0,1,0,0,0,1,0,1,0,1,0],\n",
    "     [1,0,0,0,0,0,1,1,1,0,1,0,0,0,0,0,1,0,1,1],\n",
    "     [1,0,0,1,0,0,1,0,0,0,1,0,0,0,0,0,1,0,1,0]]\n",
    "p = np.array(a).flatten()"
   ]
  },
  {
   "cell_type": "code",
   "execution_count": 14,
   "id": "6018f6eb-c21e-4c57-a7c9-bfba34df18fa",
   "metadata": {},
   "outputs": [
    {
     "name": "stdout",
     "output_type": "stream",
     "text": [
      "1/1 [==============================] - 0s 126ms/step\n"
     ]
    }
   ],
   "source": [
    "pred = model.predict(p.reshape(1,-1))"
   ]
  },
  {
   "cell_type": "code",
   "execution_count": 15,
   "id": "470acc3f-a721-4cf3-835a-6b149fce640e",
   "metadata": {},
   "outputs": [
    {
     "data": {
      "text/plain": [
       "array([[3.19342362e-05, 1.62516825e-03, 4.42272431e-04, 2.54939854e-01,\n",
       "        1.78864971e-01, 8.96744081e-04, 7.83877969e-01, 5.49564313e-04,\n",
       "        3.76915326e-04, 8.09518097e-05, 1.41098110e-06, 5.36836088e-01,\n",
       "        1.03997650e-07, 1.15145810e-01, 4.33419034e-09, 9.56691615e-10,\n",
       "        1.23197037e-06, 3.19568505e-09, 1.23290045e-08, 2.78652300e-17]],\n",
       "      dtype=float32)"
      ]
     },
     "execution_count": 15,
     "metadata": {},
     "output_type": "execute_result"
    }
   ],
   "source": [
    "pred"
   ]
  },
  {
   "cell_type": "code",
   "execution_count": 16,
   "id": "9e42c292-595a-422f-8c61-9871b5c6d145",
   "metadata": {},
   "outputs": [
    {
     "data": {
      "text/plain": [
       "array([[0, 0, 0, 0, 0, 0, 1, 0, 0, 0, 0, 1, 0, 0, 0, 0, 0, 0, 0, 0]])"
      ]
     },
     "execution_count": 16,
     "metadata": {},
     "output_type": "execute_result"
    }
   ],
   "source": [
    "(pred>0.4).astype(int)"
   ]
  },
  {
   "cell_type": "code",
   "execution_count": 20,
   "id": "f97f8a66-b5a2-41db-b641-c324bd5b762b",
   "metadata": {},
   "outputs": [],
   "source": [
    "model.save('rnn_model.h5')"
   ]
  },
  {
   "cell_type": "code",
   "execution_count": 21,
   "id": "61326334-e025-4fe3-bcdb-264d9777798d",
   "metadata": {},
   "outputs": [],
   "source": [
    "loaded_model = tf.keras.models.load_model('rnn_model.h5')"
   ]
  },
  {
   "cell_type": "code",
   "execution_count": 22,
   "id": "6832669c-cf9f-46d9-b701-d153a8a9e993",
   "metadata": {},
   "outputs": [
    {
     "name": "stdout",
     "output_type": "stream",
     "text": [
      "1/1 [==============================] - 0s 91ms/step\n"
     ]
    }
   ],
   "source": [
    "pred = loaded_model.predict(p.reshape(1,-1))"
   ]
  },
  {
   "cell_type": "code",
   "execution_count": 23,
   "id": "1ebaaf75-2120-4be8-889b-0f76124fa41c",
   "metadata": {},
   "outputs": [
    {
     "data": {
      "text/plain": [
       "array([[0, 0, 0, 0, 0, 0, 1, 0, 0, 0, 0, 1, 0, 0, 0, 0, 0, 0, 0, 0]])"
      ]
     },
     "execution_count": 23,
     "metadata": {},
     "output_type": "execute_result"
    }
   ],
   "source": [
    "(pred>0.4).astype(int)"
   ]
  },
  {
   "cell_type": "code",
   "execution_count": null,
   "id": "96d12cfb-fedd-4ca4-97a4-97fffa3acef0",
   "metadata": {},
   "outputs": [],
   "source": []
  }
 ],
 "metadata": {
  "kernelspec": {
   "display_name": "Python 3 (ipykernel)",
   "language": "python",
   "name": "python3"
  },
  "language_info": {
   "codemirror_mode": {
    "name": "ipython",
    "version": 3
   },
   "file_extension": ".py",
   "mimetype": "text/x-python",
   "name": "python",
   "nbconvert_exporter": "python",
   "pygments_lexer": "ipython3",
   "version": "3.9.18"
  }
 },
 "nbformat": 4,
 "nbformat_minor": 5
}
